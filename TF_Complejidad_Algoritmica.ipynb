{
  "nbformat": 4,
  "nbformat_minor": 0,
  "metadata": {
    "colab": {
      "name": "TF_Complejidad_Algoritmica.ipynb",
      "private_outputs": true,
      "provenance": [],
      "collapsed_sections": []
    },
    "kernelspec": {
      "name": "python3",
      "display_name": "Python 3"
    },
    "language_info": {
      "name": "python"
    }
  },
  "cells": [
    {
      "cell_type": "code",
      "execution_count": null,
      "metadata": {
        "id": "PVUL2IqgGtpO"
      },
      "outputs": [],
      "source": [
        "import folium\n",
        "import graphviz as gv\n",
        "import numpy as np\n",
        "import pandas as pd\n",
        "import heapq as hq\n",
        "import math"
      ]
    },
    {
      "cell_type": "code",
      "source": [
        "df = pd.read_csv('Lima-intersecciones.csv')"
      ],
      "metadata": {
        "id": "zlIoi5GqICKD"
      },
      "execution_count": null,
      "outputs": []
    },
    {
      "cell_type": "code",
      "source": [
        "df.columns = df.columns.str.strip()"
      ],
      "metadata": {
        "id": "AK8QliPKH2On"
      },
      "execution_count": null,
      "outputs": []
    },
    {
      "cell_type": "code",
      "source": [
        "df.head()"
      ],
      "metadata": {
        "id": "qRxe0UglIL3d"
      },
      "execution_count": null,
      "outputs": []
    },
    {
      "cell_type": "code",
      "source": [
        "subset_of_df = df.sample(n=500)"
      ],
      "metadata": {
        "id": "PFm9oOXzPkgH"
      },
      "execution_count": null,
      "outputs": []
    },
    {
      "cell_type": "code",
      "source": [
        "some_map = folium.Map(location=[subset_of_df['Y'].mean(),subset_of_df['X'].mean()],zoom_start=10)"
      ],
      "metadata": {
        "id": "E4qfUQO8Zkbl"
      },
      "execution_count": null,
      "outputs": []
    },
    {
      "cell_type": "code",
      "source": [
        "for row in subset_of_df.itertuples():\n",
        "  some_map.add_child(folium.Marker(location=[row.Y,row.X], popup=row.ID))"
      ],
      "metadata": {
        "id": "w9lnbkb5aLa_"
      },
      "execution_count": null,
      "outputs": []
    },
    {
      "cell_type": "code",
      "source": [
        "some_map"
      ],
      "metadata": {
        "id": "XeydT61sqnSD"
      },
      "execution_count": null,
      "outputs": []
    },
    {
      "cell_type": "code",
      "source": [
        "import sys\n",
        "from heapq import heapify , heappush, heappop"
      ],
      "metadata": {
        "id": "y4g8C1XH_6TS"
      },
      "execution_count": null,
      "outputs": []
    },
    {
      "cell_type": "code",
      "source": [
        "def adjlShow():\n",
        "  grafo = gv.Digraph(\"grafod3\")\n",
        "  n = len(df)\n",
        "  for i in range(1000):\n",
        "    #grafo.edge(str(G[i][0], str(G[i][1])))\n",
        "    grafo.edge(str(df.ORIGEN[i]),str(df.DESTINO[i]), str(df.DISTANCIA[i]))\n",
        "  return grafo\n",
        "  "
      ],
      "metadata": {
        "id": "12QP3Gad_k5t"
      },
      "execution_count": null,
      "outputs": []
    },
    {
      "cell_type": "code",
      "source": [
        "def dijkstra(G, s):\n",
        "  n = len(G)\n",
        "  visited = [False]*n\n",
        "  path = [None]*n\n",
        "  cost = [math.inf]*n\n",
        "  cost[s] = 0\n",
        "  queue = [(0, s)]\n",
        "  while queue:\n",
        "    g_u, u = hq.heappop(queue)\n",
        "    if not visited[u]:\n",
        "      visited[u] = True\n",
        "      for v, w in G[u]:\n",
        "        f = g_u + w\n",
        "        if f < cost[v]:\n",
        "          cost[v] = f\n",
        "          path[v] = u\n",
        "          hq.heappush(queue, (f, v))\n",
        "\n",
        "  return path, cost"
      ],
      "metadata": {
        "id": "ifsPljT_BR4Q"
      },
      "execution_count": null,
      "outputs": []
    },
    {
      "cell_type": "code",
      "source": [
        "adjlShow()"
      ],
      "metadata": {
        "id": "KZKeA6utBVLc"
      },
      "execution_count": null,
      "outputs": []
    },
    {
      "cell_type": "code",
      "source": [
        "import math\n",
        "\n",
        "class Vertice:\n",
        "\tdef __init__(self, i):\n",
        "\t\tself.id = i\n",
        "\t\tself.vecinos = []\n",
        "\t\tself.visitado = False\n",
        "\t\tself.padre = None\n",
        "\t\tself.costo = float('inf')\n",
        "\t\tself.x = float('inf')\n",
        "\t\tself.y = float('inf')\n",
        "\n",
        "\tdef agregarVecino(self, v, p, x, y):\n",
        "\t\t#print(v)\n",
        "\t\t#if v not in self.vecinos:\n",
        "\t\tself.vecinos.append([v, p, x, y])\n",
        "\n",
        "class Grafica:\n",
        "\tdef __init__(self):\n",
        "\t\tself.vertices = {}\n",
        "\n",
        "\tdef agregarVertice(self, id):\n",
        "\t\tif id not in self.vertices:\n",
        "\t\t\tself.vertices[id] = Vertice(id)\n",
        "\n",
        "\tdef agregarArista(self, a, b, p, x, y):\n",
        "\t\tif a in self.vertices and b in self.vertices:\n",
        "\t\t\tself.vertices[a].agregarVecino(b, p, x, y)\n",
        "\t\t\t#self.vertices[b].agregarVecino(a, p)\n",
        "\n",
        "\tdef imprimirGrafica(self):\n",
        "\t\tfor v in self.vertices:\n",
        "\t\t\tprint(\"El costo del vértice \"+str(self.vertices[v].id)+\" es \"+ str(self.vertices[v].costo)+\" llegando desde \"+str(self.vertices[v].padre))\n",
        "\t\t\t\n",
        "\t\n",
        "\tdef camino(self, a, b):\n",
        "\t\tcamino = []\n",
        "\t\tcamino_x = []\n",
        "\t\tcamino_y = []\n",
        "\t\tactual = b\n",
        "\t\tllegada = self.vertices[a].padre\n",
        "\t\tx = b\n",
        "\t\ty = b\n",
        "\t\twhile actual != llegada:\n",
        "\t\t\tcamino.insert(0, actual)\n",
        "\t\t\tx = self.vertices[actual].x\n",
        "\t\t\tcamino_x.insert(0, x)\n",
        "\t\t\ty = self.vertices[actual].y\n",
        "\t\t\tcamino_y.insert(0, y)\n",
        "\t\t\tactual = self.vertices[actual].padre\n",
        "\t\treturn [camino, self.vertices[b].costo, camino_x, camino_y]\n",
        "\n",
        "\tdef minimo(self, l):\n",
        "\t\tif len(l) > 0:\n",
        "\t\t\tm = self.vertices[l[0]].costo\n",
        "\t\t\tv = l[0]\n",
        "\t\t\tfor e in l:\n",
        "\t\t\t\tif m > self.vertices[e].costo:\n",
        "\t\t\t\t\tm = self.vertices[e].costo\n",
        "\t\t\t\t\tv = e\n",
        "\t\t\treturn v\n",
        "\t\treturn None\n",
        "\n",
        "\tdef dijkstra(self, a):\n",
        "\t\tif a in self.vertices:\n",
        "\t\t\t# 1 y 2\n",
        "\t\t\tself.vertices[a].costo = 0\n",
        "\t\t\tactual = a\n",
        "\t\t\tnoVisitados = []\n",
        "\t\t\t\n",
        "\t\t\tfor v in self.vertices:\n",
        "\t\t\t\tif v != a:\n",
        "\t\t\t\t\tself.vertices[v].costo = float('inf')\n",
        "\t\t\t\t\t#self.vertices[v].x = float('inf')\n",
        "\t\t\t\t\t#self.vertices[v].y = float('inf')\n",
        "\t\t\t\tself.vertices[v].padre = None\n",
        "\t\t\t\tnoVisitados.append(v)\n",
        "\n",
        "\t\t\twhile len(noVisitados) > 0:\n",
        "\t\t\t\t#3\n",
        "\t\t\t\tfor vec in self.vertices[actual].vecinos:\n",
        "\t\t\t\t\tif self.vertices[vec[0]].visitado == False:\n",
        "\t\t\t\t\t\t# 3.a\n",
        "\t\t\t\t\t\tif self.vertices[actual].costo + vec[1] < self.vertices[vec[0]].costo:\n",
        "\t\t\t\t\t\t\t#print(vec[2])\n",
        "\t\t\t\t\t\t\tself.vertices[vec[0]].costo = self.vertices[actual].costo + vec[1]\n",
        "\t\t\t\t\t\t\tself.vertices[vec[0]].padre = actual\n",
        "\t\t\t\t\t\t\tself.vertices[actual].x = vec[2]\n",
        "\t\t\t\t\t\t\tself.vertices[actual].y = vec[3]\n",
        "\t\t\t\t\t\t\t#print(self.vertices[vec[0]].x)\n",
        "\n",
        "\t\t\t\t# 4\n",
        "\t\t\t\tself.vertices[actual].visitado = True\n",
        "\t\t\t\tnoVisitados.remove(actual)\n",
        "\n",
        "\t\t\t\t# 5 y 6\n",
        "\t\t\t\tactual = self.minimo(noVisitados)\n",
        "\t\telse:\n",
        "\t\t\treturn False\n",
        "\n",
        "g = Grafica()\n",
        "df = pd.read_csv('Lima-intersecciones.csv')\n",
        "for i in range(10000):\n",
        "  g.agregarVertice(df.ORIGEN[i])\n",
        "for i in range(10000):\n",
        "  g.agregarArista(df.ORIGEN[i], df.DESTINO[i], df.DISTANCIA[i], df.X[i], df.Y[i])\n",
        "\n",
        "g.dijkstra(1)"
      ],
      "metadata": {
        "id": "-NAcWwtJF7Ld"
      },
      "execution_count": null,
      "outputs": []
    },
    {
      "cell_type": "code",
      "source": [
        "camino = g.camino(6,20393)\n",
        "print(camino)\n",
        "original_camino = camino[0]\n",
        "peso = camino[1]\n",
        "for i in range(len(original_camino)):\n",
        "\tprint(camino[2][i])\n",
        "\tprint(camino[3][i])\n"
      ],
      "metadata": {
        "id": "7CPwF9D6HM0g"
      },
      "execution_count": null,
      "outputs": []
    },
    {
      "cell_type": "code",
      "source": [
        "#subset_of_result = original_camino.sample(n=500)}\n",
        "some_map = folium.Map(location=[camino[3][0].mean(),camino[2][0].mean()],zoom_start=100)\n",
        "\n",
        "numeros=[1,2,3,4,5]\n",
        "for i in range(len(camino[0])):\n",
        "  some_map.add_child(folium.Marker(location=[camino[3][i],camino[2][i]], popup=str(camino[0][i])))\n",
        "\n",
        "some_map\n",
        "  "
      ],
      "metadata": {
        "id": "3wq7RHH75ocx"
      },
      "execution_count": null,
      "outputs": []
    },
    {
      "cell_type": "code",
      "source": [
        ""
      ],
      "metadata": {
        "id": "4jp7diVVLt0u"
      },
      "execution_count": null,
      "outputs": []
    }
  ]
}